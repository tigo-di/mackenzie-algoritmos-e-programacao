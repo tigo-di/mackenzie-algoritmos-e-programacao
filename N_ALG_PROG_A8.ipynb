{
  "nbformat": 4,
  "nbformat_minor": 0,
  "metadata": {
    "colab": {
      "name": "N_ALG-PROG_A8.ipynb",
      "provenance": [],
      "authorship_tag": "ABX9TyO1i6eMj29hrS2KIc46GIwj",
      "include_colab_link": true
    },
    "kernelspec": {
      "name": "python3",
      "display_name": "Python 3"
    },
    "language_info": {
      "name": "python"
    }
  },
  "cells": [
    {
      "cell_type": "markdown",
      "metadata": {
        "id": "view-in-github",
        "colab_type": "text"
      },
      "source": [
        "<a href=\"https://colab.research.google.com/github/tigo-di/mackenzie-algoritmos-e-programacao/blob/main/N_ALG_PROG_A8.ipynb\" target=\"_parent\"><img src=\"https://colab.research.google.com/assets/colab-badge.svg\" alt=\"Open In Colab\"/></a>"
      ]
    },
    {
      "cell_type": "markdown",
      "metadata": {
        "id": "7bcWgJPILylB"
      },
      "source": [
        "# Aplicando Conhecimento\n",
        "\n",
        "Faça um programa modularizado em Python, para resolver um problema usando listas.  \n",
        "\n",
        "\n",
        "O programa deve ter as seguintes funções: \n",
        "\n",
        "- entrada_carro(): faz a entrada do modelo de quatro carros via teclado (o usuário digitará o modelo de quatro carros); \n",
        "\n",
        "- entrada_consumo(): faz a entrada de um número inteiro que é o consumo (em litros) de cada modelo de carro por quilometro (o usuário digita o consumo correspondente a cada carro); \n",
        "\n",
        "- economico(): retorna o modelo do carro mais econômico. Observe que o modelo do carro e seu consumo estará na mesma posição na lista, porém em vetores diferentes (carro e consumo). \n",
        "\n",
        "A entrada de dados deve ser feita da seguinte forma: \n",
        "\n",
        "- O usuário digitará o modelo de cada um dos quatro carros, linha por linha, seguidas uma da outra. \n",
        "\n",
        "- O usuário digitará o consumo de cada um dos quatro carros, linha por linha. \n",
        "\n",
        "O programa apresentará, na tela, o modelo do carro que tiver o menor valor de consumo. "
      ]
    },
    {
      "cell_type": "code",
      "metadata": {
        "colab": {
          "base_uri": "https://localhost:8080/"
        },
        "id": "7Pe6BX5QLq7D",
        "outputId": "dc0a74d9-ca3e-449c-b74d-1737ff9b3bde"
      },
      "source": [
        "carros = []\n",
        "totalCarros = 4\n",
        "consumo = []\n",
        "consumo_ordenado = []\n",
        "\n",
        "def entrada_carro():\n",
        "  counter = 0\n",
        "  while counter < totalCarros:\n",
        "    novoCarro = input()\n",
        "    carros.append(novoCarro)\n",
        "    counter = counter + 1\n",
        "\n",
        "def entrada_consumo():\n",
        "  counter = 0\n",
        "  while counter < totalCarros:\n",
        "    novoConsumo = int(input())\n",
        "    consumo.append(novoConsumo)\n",
        "    consumo_ordenado.append(novoConsumo)\n",
        "    counter = counter + 1\n",
        "\n",
        "def economico():\n",
        "  counter = 0\n",
        "  consumo_ordenado.sort()\n",
        "  while counter < totalCarros:\n",
        "    if (consumo_ordenado[0] == consumo[counter]):\n",
        "      maisEconomico = carros[counter]\n",
        "      break\n",
        "    counter = counter + 1\n",
        "  return maisEconomico\n",
        "\n",
        "def main():\n",
        "  entrada_carro()\n",
        "  entrada_consumo()\n",
        "  print(economico())\n",
        "\n",
        "main()\n",
        "\n",
        "# Teste 1\n",
        "\n",
        "## Entradas\n",
        "# JEEP\n",
        "# AUDI\n",
        "# BMW\n",
        "# JAGUAR\n",
        "# 10\n",
        "# 6\n",
        "# 8\n",
        "# 12\n",
        "## Saída\n",
        "# AUDI\n",
        "\n",
        "\n",
        "# Teste 2\n",
        "\n",
        "## Entradas\n",
        "# CELTA\n",
        "# GOL\n",
        "# UP\n",
        "# KA\n",
        "# 10\n",
        "# 7\n",
        "# 6\n",
        "# 9\n",
        "## Saída\n",
        "# UP\n"
      ],
      "execution_count": 23,
      "outputs": [
        {
          "output_type": "stream",
          "name": "stdout",
          "text": [
            "CELTA\n",
            "GOL\n",
            "UP\n",
            "KA\n",
            "10\n",
            "7\n",
            "6\n",
            "9\n",
            "UP\n"
          ]
        }
      ]
    }
  ]
}