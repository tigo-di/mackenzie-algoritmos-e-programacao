{
  "nbformat": 4,
  "nbformat_minor": 0,
  "metadata": {
    "colab": {
      "name": "N_ALG-PROG_A2-lista-de-exercicios-estrutura-sequencial.ipynb",
      "provenance": [],
      "authorship_tag": "ABX9TyPSA4T4tPtbgZXJdkUV3RGT",
      "include_colab_link": true
    },
    "kernelspec": {
      "name": "python3",
      "display_name": "Python 3"
    },
    "language_info": {
      "name": "python"
    }
  },
  "cells": [
    {
      "cell_type": "markdown",
      "metadata": {
        "id": "view-in-github",
        "colab_type": "text"
      },
      "source": [
        "<a href=\"https://colab.research.google.com/github/tigo-di/mackenzie-algoritmos-e-programacao/blob/main/N_ALG_PROG_A2_lista_de_exercicios_estrutura_sequencial.ipynb\" target=\"_parent\"><img src=\"https://colab.research.google.com/assets/colab-badge.svg\" alt=\"Open In Colab\"/></a>"
      ]
    },
    {
      "cell_type": "code",
      "metadata": {
        "colab": {
          "base_uri": "https://localhost:8080/"
        },
        "id": "7LuihC99s3cM",
        "outputId": "54064c51-4ac5-41f0-ee33-fee59bf07c26"
      },
      "source": [
        "# EXERCÍCIO 1 – Escreva um programa em Python que permita ao usuário digitar \n",
        "# dois números inteiros e exibir o resultado para cada uma das seguintes operações:\n",
        "# soma, subtração, multiplicação, divisão, divisão truncada, resto e exponenciação. \n",
        "\n",
        "\n",
        "firstNumber = int(input('First number: '))\n",
        "secondNumber = int(input('Second number: '))\n",
        "\n",
        "sum = firstNumber + secondNumber\n",
        "subtraction = firstNumber - secondNumber\n",
        "multiplication = firstNumber * secondNumber\n",
        "division = firstNumber / secondNumber\n",
        "truncatedDivision = firstNumber // secondNumber\n",
        "rest = firstNumber % secondNumber\n",
        "exponentiation = firstNumber ** secondNumber\n",
        "\n",
        "\n",
        "print(f'sum: {sum}')\n",
        "print(f'subtraction: {subtraction}')\n",
        "print(f'multiplication: {multiplication}')\n",
        "print(f'division: {division}')\n",
        "print(f'truncatedDivision: {truncatedDivision}')\n",
        "print(f'rest: {rest}')\n",
        "print(f'exponentiation: {exponentiation}')\n"
      ],
      "execution_count": null,
      "outputs": [
        {
          "output_type": "stream",
          "name": "stdout",
          "text": [
            "First number: 7\n",
            "Second number: 5\n",
            "sum: 12\n",
            "subtraction: 2\n",
            "multiplication: 35\n",
            "division: 1.4\n",
            "truncatedDivision: 1\n",
            "rest: 2\n",
            "exponentiation: 16807\n"
          ]
        }
      ]
    },
    {
      "cell_type": "code",
      "metadata": {
        "colab": {
          "base_uri": "https://localhost:8080/"
        },
        "id": "9mf-BxH6zzI8",
        "outputId": "97f9d2cc-ef30-456c-fa83-e8c200635551"
      },
      "source": [
        "# EXERCÍCIO 2 – Faça um programa em Python que leia dois números inteiros e\n",
        "# exiba o quadrado da diferença do primeiro valor pelo segundo.\n",
        "import math\n",
        "\n",
        "\n",
        "firstNumber = int(input('First number: '))\n",
        "secondNumber = int(input('Second number: '))\n",
        "\n",
        "subtraction = firstNumber - secondNumber\n",
        "x = math.pow(subtraction,2)\n",
        "print(f'O quadrado da diferença do primeiro valor pelo segundo é {x:.0f}')"
      ],
      "execution_count": null,
      "outputs": [
        {
          "output_type": "stream",
          "name": "stdout",
          "text": [
            "First number: 4\n",
            "Second number: 2\n",
            "O quadrado da diferença do primeiro valor pelo segundo é 4\n"
          ]
        }
      ]
    },
    {
      "cell_type": "code",
      "metadata": {
        "colab": {
          "base_uri": "https://localhost:8080/"
        },
        "id": "lX_onPey4lVn",
        "outputId": "c3d39ef2-1661-4ca3-c128-c2bbc4a2bba9"
      },
      "source": [
        "# EXERCÍCIO 3 – Faça um programa em Python que resolva o seguinte problema: \n",
        "\n",
        "# Um concurso possui um prêmio no montante de R$ 780.000,00 para dividir entre três ganhadores da seguinte forma: \n",
        "\n",
        "# - o primeiro ganhador receberá 46% do prêmio; \n",
        "\n",
        "# - o segundo ganhador receberá 32% do prêmio; \n",
        "\n",
        "# - o terceiro ganhador receberá o restante do prêmio. \n",
        "\n",
        "\n",
        "# Calcule e mostre o valor do prêmio de cada ganhador. \n",
        "\n",
        "# Observe que este programa não tem valor de entrada feita pelo usuário. \n",
        "\n",
        "\n",
        "import math\n",
        "\n",
        "\n",
        "\n",
        "reward = float(780000.00)\n",
        "\n",
        "firstPrize = reward * .46\n",
        "secondPrize = reward * .32\n",
        "thirdPrize = reward - (firstPrize + secondPrize)\n",
        "\n",
        "print(f'firstPrize: {firstPrize}')\n",
        "print(f'secondPrize: {secondPrize}')\n",
        "print(f'thirdPrize: {thirdPrize}')\n",
        "\n",
        "print(f'check: {firstPrize + secondPrize + thirdPrize }')\n",
        "\n"
      ],
      "execution_count": null,
      "outputs": [
        {
          "output_type": "stream",
          "name": "stdout",
          "text": [
            "firstPrize: 358800.0\n",
            "secondPrize: 249600.0\n",
            "thirdPrize: 171600.0\n",
            "check: 780000.0\n"
          ]
        }
      ]
    },
    {
      "cell_type": "code",
      "metadata": {
        "colab": {
          "base_uri": "https://localhost:8080/"
        },
        "id": "f3a4i70X8faK",
        "outputId": "35c55985-53c2-4a7a-d877-c18593e4e801"
      },
      "source": [
        "\n",
        "\n",
        "# Faça um programa em Python que receba o custo (valor em reais)\n",
        "# de um espetáculo teatral e o preço do convite (valor em reais) desse espetáculo.\n",
        "# Esse programa deve calcular e mostrar:  \n",
        " \n",
        "\n",
        "# a) A quantidade de convites que devem ser vendidos para que, pelo menos, o custo do espetáculo seja alcançado.  \n",
        "\n",
        "# b) A quantidade de convites que devem ser vendidos para que se tenha um lucro de 23%. \n",
        "\n",
        " \n",
        "# Observe que as quantidades calculadas devem ser um número inteiro, portanto,\n",
        "# o resultado da quantidade de convites deve ser arredondada para cima, usando a função matemática apropriada em Python. \n",
        "\n",
        "import math\n",
        "\n",
        "custo = float(input('Custo do espetáculo: '))\n",
        "precoDoConvite = float(input('Preço do convite: '))\n",
        "\n",
        "quantosConvitesPagamCusto = math.ceil(custo / precoDoConvite)\n",
        "\n",
        "lucro = math.ceil(quantosConvitesPagamCusto + ( quantosConvitesPagamCusto * .23 ))\n",
        "\n",
        "print(f'Quantidade de convites vendidos que pagam o custo: {quantosConvitesPagamCusto}')\n",
        "\n",
        "print(f'Quantidade de convites vendidos para obter lucro de 23%: {lucro}')\n",
        "\n"
      ],
      "execution_count": null,
      "outputs": [
        {
          "output_type": "stream",
          "name": "stdout",
          "text": [
            "Custo do espetáculo: 500\n",
            "Preço do convite: 5\n",
            "Quantidade de convites vendidos que pagam o custo: 100\n",
            "Quantidade de convites vendidos para obter lucro de 23%: 123\n"
          ]
        }
      ]
    }
  ]
}