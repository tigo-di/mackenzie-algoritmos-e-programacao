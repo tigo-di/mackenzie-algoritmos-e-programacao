{
  "nbformat": 4,
  "nbformat_minor": 0,
  "metadata": {
    "colab": {
      "name": " N_ALG PROG_A4.ipynb",
      "provenance": [],
      "collapsed_sections": [],
      "authorship_tag": "ABX9TyPhHMP7kUMUiyCinl4pLU68",
      "include_colab_link": true
    },
    "kernelspec": {
      "name": "python3",
      "display_name": "Python 3"
    },
    "language_info": {
      "name": "python"
    }
  },
  "cells": [
    {
      "cell_type": "markdown",
      "metadata": {
        "id": "view-in-github",
        "colab_type": "text"
      },
      "source": [
        "<a href=\"https://colab.research.google.com/github/tigo-di/mackenzie-algoritmos-e-programacao/blob/main/N_ALG_PROG_A4.ipynb\" target=\"_parent\"><img src=\"https://colab.research.google.com/assets/colab-badge.svg\" alt=\"Open In Colab\"/></a>"
      ]
    },
    {
      "cell_type": "code",
      "metadata": {
        "colab": {
          "base_uri": "https://localhost:8080/"
        },
        "id": "6cmGikwSYiQg",
        "outputId": "09a01197-2419-4b98-9f13-67a9e868e074"
      },
      "source": [
        "##  Aula 4\n",
        "##  Uso de elif - 1° exemplo\n",
        "\n",
        "notaA = float(input('Digite a nota: '))\n",
        "notaB = float(input('Digite a nota: '))\n",
        "notaC = float(input('Digite a nota: '))\n",
        "\n",
        "media = (notaA + notaB + notaC)/3\n",
        "\n",
        "print(f\"A média é {media:.1f}\")\n",
        "\n",
        "if media >= 0 and media < 3:\n",
        "  print(f\"Reprovado\")\n",
        "elif media < 7:\n",
        "  print(f'Exame')\n",
        "  print(f'Precisa tirar {12-media:.1f}')\n",
        "else:\n",
        "  print(f\"Aprovado\")\n"
      ],
      "execution_count": null,
      "outputs": [
        {
          "output_type": "stream",
          "name": "stdout",
          "text": [
            "Digite a nota: 4\n",
            "Digite a nota: 6\n",
            "Digite a nota: 9\n",
            "A média é 6.3\n",
            "Exame\n",
            "Precisa tirar 5.7\n"
          ]
        }
      ]
    },
    {
      "cell_type": "code",
      "metadata": {
        "colab": {
          "base_uri": "https://localhost:8080/"
        },
        "id": "LbCoKxLUei1k",
        "outputId": "3bab2e19-c98e-4665-cef7-2cc74fc9dcf8"
      },
      "source": [
        "##  Aula 4\n",
        "##  Uso de elif - 2° exemplo\n",
        "\n",
        "valorDaCompra = float(input('Informe o valor da compra: '))\n",
        "codigoDoPagamento = int(input('Código de pagamento: '))\n",
        "\n",
        "error = False\n",
        "\n",
        "if codigoDoPagamento == 1:\n",
        "  coeficiente = -.1\n",
        "  mensagem = 'À vista em dinheiro ou débito com 10% de desconto.'\n",
        "elif codigoDoPagamento == 2:\n",
        "  coeficiente = -.05\n",
        "  mensagem = 'À vista no crédito com 5% de desconto.'\n",
        "elif codigoDoPagamento == 3:\n",
        "  coeficiente = 0\n",
        "  valorDaParcela = valorDaCompra/2  \n",
        "  mensagem = f'Em 2 vezes de {valorDaParcela:.2f}, preço normal, sem juros.'\n",
        "elif codigoDoPagamento == 4:\n",
        "  coeficiente = .1\n",
        "  valorDaParcela = valorDaCompra/3\n",
        "  mensagem = f'Em 3 vezes de  {valorDaParcela:.2f}, com 10% de juros.'\n",
        "else:\n",
        "  error = True\n",
        "\n",
        "if error:\n",
        "  print('Código de pagamento inválido')\n",
        "else:\n",
        "  total = valorDaCompra + (valorDaCompra * coeficiente)\n",
        "  print(f\"Valor da compra {total:.2f}\")\n",
        "  print(mensagem)\n",
        "  print(f\"Valor total da compra {total:.2f}\")"
      ],
      "execution_count": null,
      "outputs": [
        {
          "output_type": "stream",
          "name": "stdout",
          "text": [
            "Informe o valor da compra: 100\n",
            "Código de pagamento: 5\n",
            "Código de pagamento inválido\n"
          ]
        }
      ]
    },
    {
      "cell_type": "code",
      "metadata": {
        "colab": {
          "base_uri": "https://localhost:8080/"
        },
        "id": "5otBM_VYmHyV",
        "outputId": "de732c9d-e18b-4197-cd05-7e9210a33415"
      },
      "source": [
        "saldoMedio = float(input('Digite o saldo médio: '))\n",
        "\n",
        "if saldoMedio <= 200:\n",
        "  coeficiente = .1\n",
        "elif saldoMedio > 200 and saldoMedio <= 300:\n",
        "  coeficiente = .2\n",
        "elif saldoMedio > 300 and saldoMedio <= 400:\n",
        "  coeficiente = .25\n",
        "elif saldoMedio > 400:\n",
        "  coeficiente = .30\n",
        "\n",
        "credito = saldoMedio * coeficiente\n",
        "\n",
        "saldoMedioMensagem = f\"O valor do saldo médio é {saldoMedio:.2f}\"\n",
        "\n",
        "creditoMensagem = f\"O valor do crédito é {credito:.2f}\"\n",
        "\n",
        "print(saldoMedioMensagem)\n",
        "\n",
        "print(creditoMensagem)"
      ],
      "execution_count": null,
      "outputs": [
        {
          "output_type": "stream",
          "name": "stdout",
          "text": [
            "Digite o saldo médio: 500\n",
            "O valor do saldo médio é 500.00\n",
            "O valor do crédito é 150.00\n"
          ]
        }
      ]
    },
    {
      "cell_type": "code",
      "metadata": {
        "colab": {
          "base_uri": "https://localhost:8080/"
        },
        "id": "_x4kuSHJt-St",
        "outputId": "e401ca2a-0b44-491b-a2d1-36ab2bd97f24"
      },
      "source": [
        "import random\n",
        "\n",
        "number = random.randint(0,10)\n",
        "\n",
        "humanBet = input('Digite a sua aposta: par ou ímpar ? ')\n",
        "\n",
        "isEven = False\n",
        "\n",
        "if number % 2 == 0:\n",
        "  isEven = True\n",
        "\n",
        "winner = \"Computador\"\n",
        "\n",
        "if (humanBet == \"par\" and  isEven == True) or (humanBet == \"ímpar\" and  isEven == False):\n",
        "  winner = \"Humano\"\n",
        "\n",
        "message = f\"O número sorteado foi {number}. O vencendor é o {winner}\"\n",
        "\n",
        "\n",
        "print(message)\n"
      ],
      "execution_count": null,
      "outputs": [
        {
          "output_type": "stream",
          "name": "stdout",
          "text": [
            "Digite a sua aposta: par ou ímpar ? ímpar\n",
            "False\n",
            "O número sorteado foi 1. O vencendor é o Humano\n"
          ]
        }
      ]
    },
    {
      "cell_type": "code",
      "metadata": {
        "colab": {
          "base_uri": "https://localhost:8080/"
        },
        "id": "U3eRRc-SkC2e",
        "outputId": "e542c03b-9ba1-44a9-ce83-f18315c4e56c"
      },
      "source": [
        "# ano bissexto\n",
        "\n",
        "year = int(input(\"Digite o ano: \"))\n",
        "\n",
        "# Estranho as regras para veriicar um ano bissexto difere entre fontes.\n",
        "\n",
        "\n",
        "\n",
        "is4Multiple = False\n",
        "is100Multiple = False\n",
        "is400Multiple = False\n",
        "\n",
        "if year % 4 == 0:\n",
        "  is4Multiple = True\n",
        "\n",
        "if year % 100 == 0:\n",
        "  is100Multiple = True\n",
        "\n",
        "if year % 400 == 0:\n",
        "  is400Multiple = True\n",
        "\n",
        "\n",
        "\n",
        "if is400Multiple or is4Multiple and not is100Multiple:\n",
        "  result = \"\"\n",
        "else:\n",
        "  result = \" não\"\n",
        "\n",
        "\n",
        "finalMessage = f\"{year}{result} é ano bissexto\"\n",
        "\n",
        "print(finalMessage)"
      ],
      "execution_count": null,
      "outputs": [
        {
          "output_type": "stream",
          "name": "stdout",
          "text": [
            "Digite o ano: 2017\n",
            "2017 não é ano bissexto\n"
          ]
        }
      ]
    },
    {
      "cell_type": "code",
      "metadata": {
        "colab": {
          "base_uri": "https://localhost:8080/"
        },
        "id": "pcXCZLG0qx-L",
        "outputId": "f9542236-2857-4334-eb9d-43d8fc9378f2"
      },
      "source": [
        "age = int(input())\n",
        "\n",
        "if age < 5:\n",
        "  message = \"NÃO TEM IDADE PARA SER ATLETA\"\n",
        "elif age <= 7:\n",
        "  message = \"INFANTIL A\"\n",
        "elif age <= 10:\n",
        "  message = \"INFANTIL B\"\n",
        "elif age <= 13:\n",
        "  message = \"JUVENIL A\"\n",
        "elif age <= 17:\n",
        "  message = \"JUVENIL B\"\n",
        "else:\n",
        "  message = \"SÊNIOR\"\n",
        "\n",
        "print(message)\n",
        "\n"
      ],
      "execution_count": null,
      "outputs": [
        {
          "output_type": "stream",
          "name": "stdout",
          "text": [
            "20\n",
            "SÊNIOR\n"
          ]
        }
      ]
    }
  ]
}