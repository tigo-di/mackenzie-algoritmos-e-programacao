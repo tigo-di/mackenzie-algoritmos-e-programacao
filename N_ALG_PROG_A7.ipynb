{
  "nbformat": 4,
  "nbformat_minor": 0,
  "metadata": {
    "colab": {
      "name": "N_ALG-PROG_A7.ipynb",
      "provenance": [],
      "authorship_tag": "ABX9TyP/iSPEyrk9I6hjNS8r3Qb5",
      "include_colab_link": true
    },
    "kernelspec": {
      "name": "python3",
      "display_name": "Python 3"
    },
    "language_info": {
      "name": "python"
    }
  },
  "cells": [
    {
      "cell_type": "markdown",
      "metadata": {
        "id": "view-in-github",
        "colab_type": "text"
      },
      "source": [
        "<a href=\"https://colab.research.google.com/github/tigo-di/mackenzie-algoritmos-e-programacao/blob/main/N_ALG_PROG_A7.ipynb\" target=\"_parent\"><img src=\"https://colab.research.google.com/assets/colab-badge.svg\" alt=\"Open In Colab\"/></a>"
      ]
    },
    {
      "cell_type": "markdown",
      "metadata": {
        "id": "wBMTRDcIpgLO"
      },
      "source": [
        "-------------------\n",
        "\n",
        "# N_ALG PROG_A7 - Praticando\n",
        "\n",
        "Faça um programa modularizado em Python com as seguintes funções: \n",
        "\n",
        "\n",
        "a) atualiza_preco(valor): a função deve receber como parâmetro o valor de um produto, calcular e retornar este valor com aumento de 10% \n",
        "\n",
        "b) taxa(valor): a função calcula e retorna o valor da taxa de 2.5% sobre o valor do produto atualizado (após a chamada da função atualiza_preco). \n",
        "\n",
        "c) main(): terá o programa principal que deve, nesta ordem, fazer a entrada via teclado (digitada pelo usuário) do valor do produto, depois chamar as funções atualiza_preco e taxa e apresentar os valores calculados do valor atualizado com duas casas decimais e do valor da taxa também com duas casas decimais. \n",
        "\n",
        "Ao final, chame a função main() para que o programa seja executado. \n",
        "\n"
      ]
    },
    {
      "cell_type": "code",
      "metadata": {
        "colab": {
          "base_uri": "https://localhost:8080/"
        },
        "id": "5vn5EV3Dokhy",
        "outputId": "c8531d71-d960-4135-9380-7305aa3607b4"
      },
      "source": [
        "def atualiza_preco(valor):\n",
        "  return valor + (valor *.1)\n",
        "def taxa(valor):\n",
        "  return valor * .025\n",
        "def main():\n",
        "  valor_do_produto = float(input())\n",
        "  novo_valor_do_produto = atualiza_preco(valor_do_produto)\n",
        "  valor_da_taxa = taxa(novo_valor_do_produto)\n",
        "  print(\"%.2f\" % novo_valor_do_produto)\n",
        "  print(\"%.2f\" % valor_da_taxa)\n",
        "main()"
      ],
      "execution_count": 3,
      "outputs": [
        {
          "output_type": "stream",
          "name": "stdout",
          "text": [
            "450\n",
            "495.00\n",
            "12.38\n"
          ]
        }
      ]
    },
    {
      "cell_type": "markdown",
      "metadata": {
        "id": "NMe3juKKuh2A"
      },
      "source": [
        "---------\n",
        "\n",
        "\n",
        "# N_ALG PROG_A7 - Aplicando conhecimento\n",
        "\n",
        "\n",
        "Elabore uma função em Python chamada valorPagamento para determinar o valor a ser pago por uma prestação de conta.  \n",
        "\n",
        " \n",
        "\n",
        "\n",
        "A função valorPagamento, que você irá escrever, recebe por parâmetro o valor da prestação e o número de dias em atraso, calcula e retorna o valor a ser pago. \n",
        "\n",
        "O cálculo do valor a ser pago é feito da seguinte forma:\n",
        "\n",
        "- Para pagamentos sem dias de atraso, cobrar o valor da prestação,\n",
        "\n",
        "- Quando houver atraso, cobrar 3% de multa sobre o valor da prestação e juros de 0,1%, sobre o valor da prestação, por dia de atraso.\n",
        "\n",
        "\n",
        " \n",
        "\n",
        "O programa possui a função principal (def main()), já escrita na questão, que solicita ao usuário o valor da prestação e o número de dias em atraso e mostra o valor retornado pela função que você escreverá.  "
      ]
    },
    {
      "cell_type": "code",
      "metadata": {
        "colab": {
          "base_uri": "https://localhost:8080/"
        },
        "id": "xLBqP-pzugW1",
        "outputId": "d14a9e4c-8ffe-45f4-a838-b2f207ab5010"
      },
      "source": [
        "def valorPagamento(valorDaPrestacao, diasEmAtraso):\n",
        "  multa = 0  \n",
        "  jurosPorDiasEmAtraso = 0\n",
        "  if(diasEmAtraso > 0):\n",
        "    multa = valorDaPrestacao * .03\n",
        "    jurosPorDiasEmAtraso = (valorDaPrestacao * .001) * diasEmAtraso\n",
        "\n",
        "  valorFinalPagar = valorDaPrestacao + multa + jurosPorDiasEmAtraso\n",
        "  return valorFinalPagar\n",
        "\n",
        "# função main e sua chamada fornecida pelo exercício\n",
        "def main():\n",
        "  valor = float(input())\n",
        "  dias = int(input())\n",
        "  print('%.3f' %valorPagamento(valor,dias))\n",
        "\n",
        "main()"
      ],
      "execution_count": 2,
      "outputs": [
        {
          "output_type": "stream",
          "name": "stdout",
          "text": [
            "1000\n",
            "5\n",
            "1035.000\n"
          ]
        }
      ]
    }
  ]
}